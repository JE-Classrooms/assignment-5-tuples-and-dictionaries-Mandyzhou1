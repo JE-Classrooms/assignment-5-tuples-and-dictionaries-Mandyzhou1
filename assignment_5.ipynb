{
 "cells": [
  {
   "cell_type": "markdown",
   "metadata": {},
   "source": [
    "# Assignment 5"
   ]
  },
  {
   "cell_type": "markdown",
   "metadata": {},
   "source": [
    "**Exercise 1:** write a Python program to create a new dictionary by extracting the mentioned keys from the below dictionary\n",
    "\n",
    "```python\n",
    "sample_dict = {\n",
    "    \"name\": \"Kelly\",\n",
    "    \"age\": 25,\n",
    "    \"salary\": 8000,\n",
    "    \"city\": \"New york\"}\n",
    "\n",
    "# Keys to extract\n",
    "keys = [\"name\", \"salary\"]\n",
    "```\n",
    "\n",
    "**Expected output:** ```{'name': 'Kelly', 'salary': 8000}```"
   ]
  },
  {
   "cell_type": "code",
   "execution_count": 5,
   "metadata": {},
   "outputs": [
    {
     "name": "stdout",
     "output_type": "stream",
     "text": [
      "{'name': 'Kelly', 'salary': 8000}\n"
     ]
    }
   ],
   "source": [
    "sample_dict = {\n",
    "    \"name\": \"Kelly\",\n",
    "    \"age\": 25,\n",
    "    \"salary\": 8000,\n",
    "    \"city\": \"New york\"}\n",
    "\n",
    "keys = [\"name\", \"salary\"]\n",
    "\n",
    "new = {i:sample_dict[i] for i in keys}\n",
    "print(new)"
   ]
  },
  {
   "cell_type": "markdown",
   "metadata": {},
   "source": [
    "**Exercise 2:** consider the following dictionary:\n",
    "\n",
    "```d = {'1':1, '2':2, '3':3, 4:4, 5:5, 6:6, 'next key':7}```\n",
    "\n",
    "(a) using a loop change the type of the values associated with string keys to strings.\n",
    "\n",
    "**Expected output:** ```{'1': '1', '2': '2', '3': '3', 4: 4, 5: 5, 6: 6, 'next key': '7'}```\n",
    "\n",
    "(b) using a loop, change all the keys to match their respective values. \n",
    "\n",
    "**Expected output:** ```{1: 1, 2: 2, 3: 3, 4: 4, 5: 5, 6: 6, 7: 7}```"
   ]
  },
  {
   "cell_type": "code",
   "execution_count": 2,
   "metadata": {},
   "outputs": [
    {
     "data": {
      "text/plain": [
       "{'1': '1', '2': '2', '3': '3', 4: 4, 5: 5, 6: 6, 'next key': '7'}"
      ]
     },
     "execution_count": 2,
     "metadata": {},
     "output_type": "execute_result"
    }
   ],
   "source": [
    "#(a)\n",
    "d = {'1':1, '2':2, '3':3, 4:4, 5:5, 6:6, 'next key':7}\n",
    "a = {}\n",
    "for i in d:\n",
    "    if type(i) == int:\n",
    "        a.update({i:d[i]})\n",
    "    else:\n",
    "        a.update({i:str(d[i])})\n",
    "a"
   ]
  },
  {
   "cell_type": "code",
   "execution_count": 6,
   "metadata": {},
   "outputs": [
    {
     "data": {
      "text/plain": [
       "{1: 1, 2: 2, 3: 3, 4: 4, 5: 5, 6: 6, 7: 7}"
      ]
     },
     "execution_count": 6,
     "metadata": {},
     "output_type": "execute_result"
    }
   ],
   "source": [
    "#(b)\n",
    "d = {'1':1, '2':2, '3':3, 4:4, 5:5, 6:6, 'next key':7}\n",
    "d[7]= d.pop(\"next key\")\n",
    "b = {}\n",
    "\n",
    "for n in d:\n",
    "    if type(n) == int:\n",
    "        b.update({n:d[n]})\n",
    "    else:\n",
    "        b.update({int(n):d[n]})\n",
    "b"
   ]
  },
  {
   "cell_type": "markdown",
   "metadata": {},
   "source": [
    "**Exercise 3:** write a Python program that *uses a loop* to map the following two lists into a dictionary.\n",
    "\n",
    "keys = ['red', 'green', 'blue']\n",
    "values = ['#FF0000','#008000', '#0000FF']\n",
    "\n",
    "**Expected output:** {'red': '#FF0000', 'green': '#008000', 'blue': '#0000FF'}\n",
    "\n",
    "*Hint:* look at the dictionary method [update](https://www.w3schools.com/python/ref_dictionary_update.asp)."
   ]
  },
  {
   "cell_type": "code",
   "execution_count": 101,
   "metadata": {},
   "outputs": [
    {
     "data": {
      "text/plain": [
       "{'red': '#FF0000', 'green': '#008000', 'blue': '#0000FF'}"
      ]
     },
     "execution_count": 101,
     "metadata": {},
     "output_type": "execute_result"
    }
   ],
   "source": [
    "#by using zip\n",
    "keys = ['red', 'green', 'blue']\n",
    "values = ['#FF0000','#008000', '#0000FF']\n",
    "\n",
    "new = dict(zip(keys,values))\n",
    "new"
   ]
  },
  {
   "cell_type": "code",
   "execution_count": 106,
   "metadata": {},
   "outputs": [
    {
     "name": "stdout",
     "output_type": "stream",
     "text": [
      "{'red': '#0000FF', 'green': '#0000FF', 'blue': '#0000FF'}\n"
     ]
    }
   ],
   "source": [
    "#by using loop\n",
    "keys = ['red', 'green', 'blue']\n",
    "values = ['#FF0000','#008000', '#0000FF']\n",
    "\n",
    "new1 = {}\n",
    "for key in keys:\n",
    "    for value in values:\n",
    "        new1[key]=value\n",
    "print(new1)"
   ]
  }
 ],
 "metadata": {
  "kernelspec": {
   "display_name": "conda_amazonei_mxnet_p36",
   "language": "python",
   "name": "conda_amazonei_mxnet_p36"
  },
  "language_info": {
   "codemirror_mode": {
    "name": "ipython",
    "version": 3
   },
   "file_extension": ".py",
   "mimetype": "text/x-python",
   "name": "python",
   "nbconvert_exporter": "python",
   "pygments_lexer": "ipython3",
   "version": "3.6.13"
  },
  "vscode": {
   "interpreter": {
    "hash": "9fbb33e86ca55080a202fed700efde3fb4ffe3f46131e5b52201b9ba06ce5f72"
   }
  }
 },
 "nbformat": 4,
 "nbformat_minor": 4
}
